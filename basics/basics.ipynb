{
 "cells": [
  {
   "cell_type": "code",
   "execution_count": 1,
   "metadata": {},
   "outputs": [],
   "source": [
    "import random\n",
    "import time"
   ]
  },
  {
   "cell_type": "code",
   "execution_count": 3,
   "metadata": {},
   "outputs": [
    {
     "name": "stdout",
     "output_type": "stream",
     "text": [
      "5 is a <class 'int'>\n",
      "3.3 is a <class 'float'>\n",
      "5 is a <class 'int'>\n",
      "3.3 is a <class 'float'>\n"
     ]
    }
   ],
   "source": [
    "a = int(5)\n",
    "b = float(3.3)\n",
    "\n",
    "print(f\"{a} is a {type(a)}\")\n",
    "print(f\"{b} is a {type(b)}\")\n",
    "\n",
    "c = 5\n",
    "d = 3.3\n",
    "\n",
    "print(f\"{c} is a {type(c)}\")\n",
    "print(f\"{d} is a {type(d)}\")"
   ]
  },
  {
   "cell_type": "code",
   "execution_count": null,
   "metadata": {},
   "outputs": [
    {
     "name": "stdout",
     "output_type": "stream",
     "text": [
      "HERE IS A TEXT ABOUT 5 MONKEYS\n",
      "HERE IS A TEXT ABOUT 5 ELEPHANTS\n",
      "\n",
      "    HERE IS A VERY LONG TEXT ABOUT 5 MONKEYS AND 5 ELEPHANTS\n",
      "    \n"
     ]
    }
   ],
   "source": [
    "a = \"HERE IS A TEXT ABOUT 5 MONKEYS\"\n",
    "b = \"HERE IS A TEXT ABOUT 5 ELEPHANTS\"\n",
    "c = \"\"\"\n",
    "    HERE IS A VERY LONG TEXT ABOUT 5 MONKEYS AND 5 ELEPHANTS\n",
    "    \"\"\"\n",
    "print(a)\n",
    "print(b)\n",
    "print(c)"
   ]
  },
  {
   "cell_type": "code",
   "execution_count": 6,
   "metadata": {},
   "outputs": [
    {
     "name": "stdout",
     "output_type": "stream",
     "text": [
      "HERE IS A TEXT ABOUT 5 APPLES\n",
      "HERE IS A TEXT ABOUT 5.000E+00 APPLES\n",
      "HERE IS A TEXT ABOUT 5.000 APPLES\n",
      "HERE IS A TEXT ABOUT    5 APPLES\n",
      "HERE IS A TEXT ABOUT 005 APPLES\n"
     ]
    }
   ],
   "source": [
    "a = 5\n",
    "b = \"APPLES\"\n",
    "print(f\"HERE IS A TEXT ABOUT {a} {b}\")\n",
    "\n",
    "print(f\"HERE IS A TEXT ABOUT {a:.3E} {b}\")\n",
    "\n",
    "print(f\"HERE IS A TEXT ABOUT {a:.3F} {b}\")\n",
    "\n",
    "print(f\"HERE IS A TEXT ABOUT {a:4} {b}\")\n",
    "\n",
    "print(f\"HERE IS A TEXT ABOUT {a:03} {b}\")"
   ]
  },
  {
   "cell_type": "code",
   "execution_count": null,
   "metadata": {},
   "outputs": [
    {
     "name": "stdout",
     "output_type": "stream",
     "text": [
      "(1, 2, 'text')\n",
      "text\n"
     ]
    },
    {
     "ename": "TypeError",
     "evalue": "'tuple' object does not support item assignment",
     "output_type": "error",
     "traceback": [
      "\u001b[1;31m---------------------------------------------------------------------------\u001b[0m",
      "\u001b[1;31mTypeError\u001b[0m                                 Traceback (most recent call last)",
      "Cell \u001b[1;32mIn[47], line 4\u001b[0m\n\u001b[0;32m      2\u001b[0m \u001b[38;5;28mprint\u001b[39m(my_tuple)\n\u001b[0;32m      3\u001b[0m \u001b[38;5;28mprint\u001b[39m(my_tuple[\u001b[38;5;241m2\u001b[39m])\n\u001b[1;32m----> 4\u001b[0m \u001b[43mmy_tuple\u001b[49m\u001b[43m[\u001b[49m\u001b[38;5;241;43m1\u001b[39;49m\u001b[43m]\u001b[49m\u001b[38;5;241m=\u001b[39m\u001b[38;5;241m2\u001b[39m\n",
      "\u001b[1;31mTypeError\u001b[0m: 'tuple' object does not support item assignment"
     ]
    }
   ],
   "source": [
    "my_tuple = (1, 2, \"text\")\n",
    "print(my_tuple)\n",
    "print(my_tuple[2])\n",
    "my_tuple[1] = 2"
   ]
  },
  {
   "cell_type": "code",
   "execution_count": 7,
   "metadata": {},
   "outputs": [
    {
     "name": "stdout",
     "output_type": "stream",
     "text": [
      "[1, 2, 'text']\n",
      "text\n",
      "[1, 2, 'text']\n",
      "['BATTERY', 2, 'text']\n"
     ]
    }
   ],
   "source": [
    "my_list = [1, 2, \"text\"]\n",
    "print(my_list)\n",
    "print(my_list[2])\n",
    "print(my_list)\n",
    "my_list[0] = \"BATTERY\"\n",
    "print(my_list)"
   ]
  },
  {
   "cell_type": "code",
   "execution_count": null,
   "metadata": {},
   "outputs": [
    {
     "name": "stdout",
     "output_type": "stream",
     "text": [
      "[1, 1, 1, [2, 2, 2]]\n",
      "[2, 2, 2, 3, 3, 3]\n",
      "['sdfsfsdf', 1, 1, 1, [2, 2, 2, 3, 3, 3]]\n"
     ]
    }
   ],
   "source": [
    "list_a = [1, 1, 1]\n",
    "list_b = [2, 2, 2]\n",
    "list_c = [3, 3, 3]\n",
    "\n",
    "list_a.append(list_b)\n",
    "print(list_a)\n",
    "\n",
    "list_b.extend(list_c)\n",
    "print(list_b)\n",
    "\n",
    "list_a.insert(0, \"sdfsfsdf\")\n",
    "print(list_a)"
   ]
  },
  {
   "cell_type": "code",
   "execution_count": null,
   "metadata": {},
   "outputs": [
    {
     "name": "stdout",
     "output_type": "stream",
     "text": [
      "{'a': 1, 'b': 'text', 'c': [1, 2, 3], 'd': {'e': 1}}\n",
      "{'e': 1}\n",
      "dict_values([1, 'text', [1, 2, 3], {'e': 1}])\n",
      "dict_keys(['a', 'b', 'c', 'd'])\n"
     ]
    }
   ],
   "source": [
    "my_dict = {\n",
    "    \"a\": 1,\n",
    "    \"b\": \"text\",\n",
    "    \"c\": [1, 2, 3],\n",
    "    \"d\": {\"e\": 1},\n",
    "}\n",
    "\n",
    "\n",
    "print(my_dict)\n",
    "\n",
    "\n",
    "print(my_dict[\"d\"])\n",
    "\n",
    "\n",
    "\n",
    "print(my_dict.values())\n",
    "\n",
    "\n",
    "print(my_dict.keys())"
   ]
  },
  {
   "cell_type": "code",
   "execution_count": 12,
   "metadata": {},
   "outputs": [
    {
     "name": "stdout",
     "output_type": "stream",
     "text": [
      "[6, 4, 8, 9, 6, 2, 1, 3, 2, 7, 4, 0, 4, 1, 0, 0, 5, 4, 8, 0, 0, 1, 9, 2, 0, 6, 4, 5, 5, 8, 9, 4, 0, 0, 8, 8, 0, 0, 3, 6, 9, 7, 7, 4, 2, 0, 5, 0, 7, 3, 8, 4, 5, 3, 7, 2, 0, 0, 9, 2, 9, 7, 7, 5, 3, 6, 9, 3, 1, 2, 8, 9, 0, 7, 7, 1, 9, 6, 9, 4, 2, 0, 7, 3, 1, 2, 6, 1, 2, 1, 6, 7, 6, 5, 1, 6, 5, 3, 2, 9, 3, 0, 9, 3, 1, 8, 0, 6, 4, 1, 6, 5, 2, 5, 9, 0, 8, 7, 8, 7, 3, 3, 5, 0, 7, 5, 4, 1, 4, 7, 4, 3, 0, 1, 6, 3, 5, 7, 2, 5, 5, 9, 7, 7, 1, 9, 8, 8, 5, 3, 1, 6, 8, 0, 4, 4, 4, 8, 5, 8, 3, 5, 8, 9, 3, 1, 8, 4, 3, 5, 2, 0, 0, 0, 8, 5, 6, 4, 0, 4, 1, 9, 2, 5, 0, 6, 5, 1, 1, 8, 0, 7, 0, 6, 0, 3, 0, 1, 1, 0]\n",
      "[5, 8, 6, 7, 5, 6, 9, 4, 7, 5, 4, 7, 1, 4, 3, 6, 3, 8, 8, 2, 9, 4, 3, 3, 9, 1, 4, 9, 8, 2, 8, 3, 7, 1, 7, 3, 3, 5, 1, 7, 2, 2, 2, 4, 3, 1, 7, 4, 7, 1, 7, 5, 8, 1, 6, 5, 8, 4, 8, 5, 5, 3, 9, 9, 3, 8, 9, 4, 5, 4, 8, 9, 6, 9, 6, 8, 7, 9, 1, 8, 6, 3, 1, 5, 1, 3, 9, 9, 4, 2, 1, 8, 6, 3, 7, 9, 7, 4, 2, 7, 1, 4, 5, 9, 1, 8, 9, 1, 6, 4, 4, 2, 9, 2, 3, 5, 9, 6, 5, 1, 1, 4, 7, 1, 9, 2, 8, 7, 4, 7, 2, 6, 4, 7, 8, 2, 1, 1, 2, 5, 8, 2, 8, 8, 5, 5, 2, 3, 7, 1, 9, 9, 3, 9, 1, 8, 6, 9, 2, 9, 3, 2, 3, 6, 1, 7, 4, 1, 2, 5, 2, 4, 9, 3, 5, 8, 4, 9, 8, 4, 6, 7, 3, 5, 8, 6, 9, 7, 2, 4, 7, 7, 8, 9, 5, 8, 6, 8, 2, 9]\n",
      "{0, 1, 2, 3, 4, 5, 6, 7, 8, 9}\n",
      "{1, 2, 3, 4, 5, 6, 7, 8, 9}\n",
      "[1, 2, 3, 4, 5, 6, 7, 8, 9]\n",
      "[0, 1, 2, 3, 4, 5, 6, 7, 8, 9]\n"
     ]
    }
   ],
   "source": [
    "lst_a = [random.randint(0, 9) for _ in range(200)]\n",
    "lst_b = [random.randint(1, 9) for _ in range(200)]\n",
    "print(lst_a)\n",
    "print(lst_b)\n",
    "set_a = set(lst_a)\n",
    "set_b = set(lst_b)\n",
    "print(set_a)\n",
    "print(set_b)\n",
    "c = list(set_a.intersection(set_b))\n",
    "print(c)\n",
    "\n",
    "c = list(set_a.union(set_b))\n",
    "print(c)"
   ]
  },
  {
   "cell_type": "markdown",
   "metadata": {},
   "source": [
    "**Lists**\\\n",
    "A list is just a collection of things.\\\n",
    "A list can contain anything \\\n",
    "You can remove and add things to lists \\\n",
    "Items are accessed by position, *index*, starting at zero"
   ]
  },
  {
   "cell_type": "code",
   "execution_count": 13,
   "metadata": {},
   "outputs": [
    {
     "name": "stdout",
     "output_type": "stream",
     "text": [
      "6\n",
      "7\n",
      "4\n",
      "5\n",
      "7\n",
      "2\n",
      "4\n",
      "2\n",
      "1\n",
      "5\n"
     ]
    }
   ],
   "source": [
    "collection = [random.randint(0, 9) for _ in range(10)]\n",
    "for item in collection:\n",
    "    print(item)"
   ]
  },
  {
   "cell_type": "code",
   "execution_count": 14,
   "metadata": {},
   "outputs": [
    {
     "name": "stdout",
     "output_type": "stream",
     "text": [
      "Position 0 - item is 0\n",
      "Position 1 - item is 8\n",
      "Position 2 - item is 5\n",
      "Position 3 - item is 2\n",
      "Position 4 - item is 9\n",
      "Position 5 - item is 0\n",
      "Position 6 - item is 3\n",
      "Position 7 - item is 7\n",
      "Position 8 - item is 9\n",
      "Position 9 - item is 8\n"
     ]
    }
   ],
   "source": [
    "collection = [random.randint(0, 9) for _ in range(10)]\n",
    "for position, item in enumerate(collection):\n",
    "    print(f\"Position {position} - item is {item}\")"
   ]
  },
  {
   "cell_type": "code",
   "execution_count": 15,
   "metadata": {},
   "outputs": [
    {
     "name": "stdout",
     "output_type": "stream",
     "text": [
      "2 3\n",
      "8 5\n",
      "9 6\n",
      "2 3\n",
      "3 3\n",
      "7 6\n",
      "3 4\n",
      "9 6\n",
      "3 0\n",
      "2 9\n"
     ]
    }
   ],
   "source": [
    "collection_1 = [random.randint(0, 9) for _ in range(10)]\n",
    "collection_2 = [random.randint(0, 9) for _ in range(10)]\n",
    "for item_1, item_2 in zip(collection_1, collection_2):\n",
    "    print(item_1, item_2)"
   ]
  },
  {
   "cell_type": "code",
   "execution_count": 77,
   "metadata": {},
   "outputs": [
    {
     "name": "stdout",
     "output_type": "stream",
     "text": [
      "(3, 3, 9, 0, 0, 0, 2, 0, 5, 6)\n",
      "(9, 9, 3, 1, 5, 6, 8, 9, 8, 4)\n",
      "(4, 2, 3, 6, 1, 6, 6, 6, 4, 2)\n",
      "(1, 4, 5, 3, 4, 2, 6, 7, 2, 5)\n",
      "(1, 3, 0, 5, 0, 9, 4, 1, 7, 9)\n",
      "(3, 9, 9, 4, 3, 9, 1, 0, 0, 3)\n",
      "(0, 4, 4, 1, 8, 3, 9, 2, 8, 1)\n",
      "(1, 7, 3, 1, 0, 9, 4, 4, 3, 0)\n",
      "(2, 9, 0, 9, 7, 7, 4, 7, 0, 1)\n",
      "(3, 9, 5, 0, 9, 5, 2, 0, 9, 9)\n"
     ]
    }
   ],
   "source": [
    "many_collections = [[random.randint(0, 9) for _ in range(10)] for _ in range(10)]\n",
    "for items in zip(*many_collections):\n",
    "    print(items)"
   ]
  },
  {
   "cell_type": "code",
   "execution_count": null,
   "metadata": {},
   "outputs": [
    {
     "name": "stdout",
     "output_type": "stream",
     "text": [
      "Position: 0 has (9, 2, 0, 2, 1, 3, 6, 9, 8, 9)\n",
      "Position: 1 has (5, 4, 9, 9, 2, 2, 9, 7, 1, 2)\n",
      "Position: 2 has (1, 7, 5, 0, 4, 7, 4, 6, 6, 8)\n",
      "Position: 3 has (4, 8, 0, 0, 0, 3, 1, 6, 4, 2)\n",
      "Position: 4 has (1, 1, 9, 9, 1, 5, 7, 5, 8, 2)\n",
      "Position: 5 has (7, 1, 6, 8, 5, 8, 9, 4, 7, 0)\n",
      "Position: 6 has (4, 6, 3, 8, 0, 2, 8, 3, 5, 0)\n",
      "Position: 7 has (7, 3, 1, 5, 8, 9, 8, 4, 9, 1)\n",
      "Position: 8 has (8, 0, 5, 8, 4, 0, 2, 7, 4, 0)\n",
      "Position: 9 has (0, 4, 6, 3, 8, 5, 5, 7, 5, 9)\n"
     ]
    }
   ],
   "source": [
    "many_collections = [[random.randint(0, 9) for _ in range(10)] for _ in range(10)]\n",
    "for position, items in enumerate(zip(*many_collections)):\n",
    "    print(f\"Position: {position} has {items}\")"
   ]
  },
  {
   "cell_type": "code",
   "execution_count": 17,
   "metadata": {},
   "outputs": [
    {
     "name": "stdout",
     "output_type": "stream",
     "text": [
      "Position: 0 has (4, 0, 2)\n",
      "Position: 1 has (5, 0, 8)\n",
      "Position: 2 has (9, 5, 9)\n",
      "Position: 3 has (3, 7, 3)\n",
      "Position: 4 has (9, 8, 2)\n",
      "Position: 5 has (4, 2, 4)\n",
      "Position: 6 has (8, 2, 4)\n",
      "Position: 7 has (1, 6, 1)\n",
      "Position: 8 has (8, 9, 3)\n",
      "Position: 9 has (2, 2, 4)\n"
     ]
    }
   ],
   "source": [
    "many_collections = [[random.randint(0, 9) for _ in range(10)] for _ in range(3)]\n",
    "for position, (a, b, c) in enumerate(zip(*many_collections)):\n",
    "    print(f\"Position: {position} has {a,b,c}\")"
   ]
  },
  {
   "cell_type": "code",
   "execution_count": null,
   "metadata": {},
   "outputs": [
    {
     "name": "stdout",
     "output_type": "stream",
     "text": [
      "{'sss0': 55, 'sss1': 49, 'sss2': 51, 'sss3': 61, 'sss4': 66, 'sss5': 28, 'sss6': 24, 'sss7': 53, 'sss8': 6, 'sss9': 13}\n",
      "sss0: 55\n",
      "sss1: 49\n",
      "sss2: 51\n",
      "sss3: 61\n",
      "sss4: 66\n",
      "sss5: 28\n",
      "sss6: 24\n",
      "sss7: 53\n",
      "sss8: 6\n",
      "sss9: 13\n"
     ]
    }
   ],
   "source": [
    "my_dict = {\"sss\" + str(i): random.randint(0, 100) for i in range(10)}\n",
    "print(my_dict)\n",
    "for key, item in my_dict.items():\n",
    "    print(f\"{key}: {item}\")"
   ]
  },
  {
   "cell_type": "code",
   "execution_count": 20,
   "metadata": {},
   "outputs": [
    {
     "name": "stdout",
     "output_type": "stream",
     "text": [
      "Weekend\n",
      "Day\n"
     ]
    }
   ],
   "source": [
    "for i in range(10):\n",
    "    if i == 3:\n",
    "        print(\"Weekend\")\n",
    "    elif i == 4:\n",
    "        print(\"Day\")\n",
    "    else:\n",
    "        pass  # Do nothing"
   ]
  },
  {
   "cell_type": "code",
   "execution_count": null,
   "metadata": {},
   "outputs": [
    {
     "name": "stdout",
     "output_type": "stream",
     "text": [
      "0 is even\n",
      "2 is even\n",
      "Weekend\n",
      "Day\n",
      "4 is even\n",
      "6 is even\n",
      "8 is even\n"
     ]
    }
   ],
   "source": [
    "for i in range(10):\n",
    "    if i == 3:\n",
    "        print(\"Weekend\")\n",
    "    if i == 4:\n",
    "        print(\"Day\")\n",
    "\n",
    "    if i % 2 == 0:  # if i is even\n",
    "        print(f\"{i} is even\")\n",
    "    else:\n",
    "        pass  # Do nothing"
   ]
  },
  {
   "cell_type": "code",
   "execution_count": 27,
   "metadata": {},
   "outputs": [],
   "source": [
    "# Get a reference time-value\n",
    "start = time.time()\n",
    "# While 1 millisecond has not passed\n",
    "while time.time() - start < 1e-3:\n",
    "    print(\"Running\")"
   ]
  },
  {
   "cell_type": "code",
   "execution_count": 28,
   "metadata": {},
   "outputs": [
    {
     "name": "stdout",
     "output_type": "stream",
     "text": [
      "3\n"
     ]
    },
    {
     "ename": "IndexError",
     "evalue": "list index out of range",
     "output_type": "error",
     "traceback": [
      "\u001b[1;31m---------------------------------------------------------------------------\u001b[0m",
      "\u001b[1;31mIndexError\u001b[0m                                Traceback (most recent call last)",
      "Cell \u001b[1;32mIn[28], line 3\u001b[0m\n\u001b[0;32m      1\u001b[0m my_list \u001b[38;5;241m=\u001b[39m [\u001b[38;5;241m1\u001b[39m, \u001b[38;5;241m2\u001b[39m, \u001b[38;5;241m3\u001b[39m]\n\u001b[0;32m      2\u001b[0m \u001b[38;5;28mprint\u001b[39m(my_list[\u001b[38;5;241m2\u001b[39m])\n\u001b[1;32m----> 3\u001b[0m \u001b[38;5;28mprint\u001b[39m(\u001b[43mmy_list\u001b[49m\u001b[43m[\u001b[49m\u001b[38;5;241;43m6\u001b[39;49m\u001b[43m]\u001b[49m)\n",
      "\u001b[1;31mIndexError\u001b[0m: list index out of range"
     ]
    }
   ],
   "source": [
    "my_list = [1, 2, 3]\n",
    "print(my_list[2])\n",
    "print(my_list[6])"
   ]
  },
  {
   "cell_type": "code",
   "execution_count": 29,
   "metadata": {},
   "outputs": [
    {
     "name": "stdout",
     "output_type": "stream",
     "text": [
      "2\n",
      "Not found\n",
      "1\n"
     ]
    },
    {
     "ename": "KeyError",
     "evalue": "'d'",
     "output_type": "error",
     "traceback": [
      "\u001b[1;31m---------------------------------------------------------------------------\u001b[0m",
      "\u001b[1;31mKeyError\u001b[0m                                  Traceback (most recent call last)",
      "Cell \u001b[1;32mIn[29], line 5\u001b[0m\n\u001b[0;32m      3\u001b[0m \u001b[38;5;28mprint\u001b[39m(my_dict\u001b[38;5;241m.\u001b[39mget(\u001b[38;5;124m\"\u001b[39m\u001b[38;5;124md\u001b[39m\u001b[38;5;124m\"\u001b[39m, \u001b[38;5;124m\"\u001b[39m\u001b[38;5;124mNot found\u001b[39m\u001b[38;5;124m\"\u001b[39m))\n\u001b[0;32m      4\u001b[0m \u001b[38;5;28mprint\u001b[39m(my_dict[\u001b[38;5;124m\"\u001b[39m\u001b[38;5;124ma\u001b[39m\u001b[38;5;124m\"\u001b[39m])\n\u001b[1;32m----> 5\u001b[0m \u001b[38;5;28mprint\u001b[39m(\u001b[43mmy_dict\u001b[49m\u001b[43m[\u001b[49m\u001b[38;5;124;43m\"\u001b[39;49m\u001b[38;5;124;43md\u001b[39;49m\u001b[38;5;124;43m\"\u001b[39;49m\u001b[43m]\u001b[49m)\n",
      "\u001b[1;31mKeyError\u001b[0m: 'd'"
     ]
    }
   ],
   "source": [
    "my_dict = {\"a\": 1, \"b\": 2, \"c\": 3}\n",
    "print(my_dict.get(\"b\", \"Not found\"))\n",
    "print(my_dict.get(\"d\", \"Not found\"))\n",
    "print(my_dict[\"a\"])\n",
    "print(my_dict[\"d\"])"
   ]
  }
 ],
 "metadata": {
  "kernelspec": {
   "display_name": "main",
   "language": "python",
   "name": "python3"
  },
  "language_info": {
   "codemirror_mode": {
    "name": "ipython",
    "version": 3
   },
   "file_extension": ".py",
   "mimetype": "text/x-python",
   "name": "python",
   "nbconvert_exporter": "python",
   "pygments_lexer": "ipython3",
   "version": "3.11.9"
  }
 },
 "nbformat": 4,
 "nbformat_minor": 2
}
