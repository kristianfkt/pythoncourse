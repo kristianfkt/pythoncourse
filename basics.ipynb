{
 "cells": [
  {
   "cell_type": "markdown",
   "metadata": {},
   "source": [
    "Basic things. \\ \n",
    "Don't try to memorize the syntax.\n",
    "\n",
    "# Contents \n",
    " - Lists\n",
    " - Tuples\n",
    " - Dictionaries\n",
    " - Sets\n",
    " - Paths\n",
    " - f-strings"
   ]
  },
  {
   "cell_type": "markdown",
   "metadata": {},
   "source": [
    "** f-strings**\\\n",
    "Neat way of putting stuff into strings. Other strings, or variables\n",
    "f\"Some text and {my_variable} goes here\""
   ]
  },
  {
   "cell_type": "code",
   "execution_count": 28,
   "metadata": {},
   "outputs": [
    {
     "name": "stdout",
     "output_type": "stream",
     "text": [
      "Neat way to include 33 in text\n"
     ]
    }
   ],
   "source": [
    "my_variable = 33\n",
    "\n",
    "print(\n",
    "    f\"Neat way to include {my_variable} in text\"\n",
    ")"
   ]
  },
  {
   "cell_type": "markdown",
   "metadata": {},
   "source": [
    "**Lists**\\\n",
    "A list is just a collection of things.\\\n",
    "A list can contain anything \\\n",
    "You can remove and add things to lists \\\n",
    "Items are accessed by position, *index*, starting at zero"
   ]
  },
  {
   "cell_type": "code",
   "execution_count": 31,
   "metadata": {},
   "outputs": [
    {
     "name": "stdout",
     "output_type": "stream",
     "text": [
      "Original list: [1, 2, 3]\n",
      "Original list after adding something to the end: [1, 2, 3, 'foo']\n",
      "Original after adding many things at once: [1, 2, 3, 'foo', 99, 98, 97]\n",
      "Item at positon 3: foo\n"
     ]
    }
   ],
   "source": [
    "my_list = [1,2,3]\n",
    "print(f\"Original list: {my_list}\")\n",
    "\n",
    "#Add\n",
    "my_list.append(\"foo\")\n",
    "print(f\"Original list after adding something to the end: {my_list}\")\n",
    "\n",
    "#Add many at once\n",
    "my_list.extend([99, 98, 97])\n",
    "print(f\"Original after adding many things at once: {my_list}\")\n",
    "\n",
    "#Access item at position 3, i.e. item number 4\n",
    "print(f\"Item at positon 3: {my_list[3]}\")\n"
   ]
  },
  {
   "cell_type": "markdown",
   "metadata": {},
   "source": [
    "**Tuple**\\\n",
    "Very similar to lists, but can not be changed/modifieed after creation.\\\n",
    "Don't think yoo much about it. "
   ]
  },
  {
   "cell_type": "code",
   "execution_count": 32,
   "metadata": {},
   "outputs": [
    {
     "name": "stdout",
     "output_type": "stream",
     "text": [
      "Here's a tuple: (1, 2, 3, 'foo')\n"
     ]
    }
   ],
   "source": [
    "my_tuple = (1,2,3,'foo')\n",
    "print(f\"Here's a tuple: {my_tuple}\")"
   ]
  },
  {
   "cell_type": "markdown",
   "metadata": {},
   "source": [
    "**Dict**\\\n",
    "Another way of collecting things, but items are accessed by a name,or *identifier*, not positon.\\\n",
    "*The identifier can actually be text,value, whatever. Just try. \\\n",
    "Just like with position (obviously), there can only be one of each name/*identifier*.  "
   ]
  },
  {
   "cell_type": "code",
   "execution_count": 36,
   "metadata": {},
   "outputs": [
    {
     "name": "stdout",
     "output_type": "stream",
     "text": [
      "Here's a dict: {'foo': 1, 'bar': 'Python', 'foo-bar': [1, 2, 4]}\n",
      "Position 'foo-bar': [1, 2, 4]\n",
      "Oh NO!\n"
     ]
    }
   ],
   "source": [
    "my_dict = {\n",
    "    \"foo\": 1,\n",
    "    \"bar\": 'Python',\n",
    "    'foo-bar': [1,2,4]\n",
    "}\n",
    "print(f\"Here's a dict: {my_dict}\")\n",
    "\n",
    "# If you want an item, but don't know if it exists, you can retireve it by\n",
    "# my.dict.get(identifier, default_value)\n",
    "item = my_dict.get(\"foo-bar\", \"Oh NO!\")\n",
    "print(f\"Position 'foo-bar': {item}\")\n",
    "\n",
    "#Noice how I overwrite/re-assign item\n",
    "item = my_dict.get(\"foobar\", \"Oh NO!\")\n",
    "print(item)"
   ]
  },
  {
   "cell_type": "markdown",
   "metadata": {},
   "source": [
    "**Set**\\\n",
    "A set is collection of unique items. Unlike lists or tuples, sets do not allow duplicate elements. Sets are unordered and unindexed.\\\n",
    "It can be used for some usefull things. "
   ]
  },
  {
   "cell_type": "code",
   "execution_count": null,
   "metadata": {},
   "outputs": [
    {
     "name": "stdout",
     "output_type": "stream",
     "text": [
      "{1, 2, 3, 5}\n",
      "{1, 3, 9}\n",
      "{1, 3}\n",
      "{1, 2, 3, 5, 9}\n"
     ]
    }
   ],
   "source": [
    "list_a = [1,2,3,1,1,5,5]\n",
    "set_a = set(list_a) \n",
    "print(set_a)\n",
    "\n",
    "list_b = [1,1,3,3, 9]\n",
    "set_b = set(list_b)\n",
    "print(set_b)\n",
    "\n",
    "# Common values\n",
    "print(set_a.intersection(set_b))\n",
    "\n",
    "# Combine values\n",
    "print(set_a.union(set_b))\n"
   ]
  },
  {
   "cell_type": "markdown",
   "metadata": {},
   "source": [
    "**Paths**\\\n",
    "Pathlib is very usefull for some operations "
   ]
  },
  {
   "cell_type": "code",
   "execution_count": 49,
   "metadata": {},
   "outputs": [
    {
     "name": "stdout",
     "output_type": "stream",
     "text": [
      "The path as a string: C:\\Users\\krist\\Documents\\GitHub\\pythoncourse\n",
      "Does the path exist? Yes\n",
      "We now look at path C:\\Users\\krist\\Documents\\GitHub\\pythoncourse\\.git\n",
      "\tIs it a folder? Yes\n",
      "\tIs it a file? No\n",
      "\tDoes it exist? Yes\n",
      "We now look at path C:\\Users\\krist\\Documents\\GitHub\\pythoncourse\\.gitattributes\n",
      "\tIs it a folder? No\n",
      "\tIs it a file? Yes\n",
      "\tDoes it exist? Yes\n",
      "We now look at path C:\\Users\\krist\\Documents\\GitHub\\pythoncourse\\basics.ipynb\n",
      "\tIs it a folder? No\n",
      "\tIs it a file? Yes\n",
      "\tDoes it exist? Yes\n",
      "We now look at path C:\\Users\\krist\\Documents\\GitHub\\pythoncourse\\my_folder\n",
      "\tIs it a folder? Yes\n",
      "\tIs it a file? No\n",
      "\tDoes it exist? Yes\n",
      "Our new path is C:\\Users\\krist\\Documents\\GitHub\\pythoncourse\\my_folder\n",
      "Does it exist? Yes\n",
      "Let's create it\n",
      "Does it exist now? Yes\n",
      "Cool, now we delete it again\n"
     ]
    }
   ],
   "source": [
    "from pathlib import Path\n",
    "\n",
    "# If this was a file, Path(__file__).resolve().parent would point to the folder where the file was saved\n",
    "# This does not work in notebooks\n",
    "\n",
    "path = Path(\"\").resolve()\n",
    "print(f\"The path as a string: {path}\")\n",
    "\n",
    "# Check if path exists\n",
    "print(f\"Does the path exist? {'Yes' if path.exists() else 'No'}\")\n",
    "\n",
    "# Iterate over each item in the path\n",
    "for item in path.iterdir():\n",
    "    print(f\"We now look at path {item}\")\n",
    "    print(f\"\\tIs it a folder? {'Yes' if item.is_dir() else 'No'}\")\n",
    "    print(f\"\\tIs it a file? {'Yes' if item.is_file() else 'No'}\")\n",
    "    print(f\"\\tDoes it exist? {'Yes' if item.exists() else 'No'}\")\n",
    "\n",
    "# Modify the path\n",
    "new_path = path.joinpath(\"my_folder\")\n",
    "print(f\"Our new path is {new_path}\")\n",
    "print(f\"Does it exist? {'Yes' if new_path.exists() else 'No'}\")\n",
    "print(f\"Let's create it\")\n",
    "if not new_path.exists():\n",
    "    new_path.mkdir()\n",
    "print(f\"Does it exist now? {'Yes' if new_path.exists() else 'No'}\")\n",
    "print(f\"Cool, now we delete it again\")\n",
    "new_path.rmdir()\n",
    "\n"
   ]
  }
 ],
 "metadata": {
  "kernelspec": {
   "display_name": "Python 3",
   "language": "python",
   "name": "python3"
  },
  "language_info": {
   "codemirror_mode": {
    "name": "ipython",
    "version": 3
   },
   "file_extension": ".py",
   "mimetype": "text/x-python",
   "name": "python",
   "nbconvert_exporter": "python",
   "pygments_lexer": "ipython3",
   "version": "3.13.2"
  }
 },
 "nbformat": 4,
 "nbformat_minor": 2
}
