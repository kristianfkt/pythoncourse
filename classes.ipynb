{
 "cells": [
  {
   "cell_type": "markdown",
   "metadata": {},
   "source": [
    "A class represents a concept\n",
    "- Animal\n",
    "    - Dog\n",
    "    - Human"
   ]
  },
  {
   "cell_type": "code",
   "execution_count": 3,
   "metadata": {},
   "outputs": [
    {
     "name": "stdout",
     "output_type": "stream",
     "text": [
      "<class 'float'>\n",
      "3.3\n"
     ]
    }
   ],
   "source": [
    "print(float) # The concept of a floating point number\n",
    "a = float(3.3) # An actual floating point number. An instance\n",
    "print(a)"
   ]
  },
  {
   "cell_type": "code",
   "execution_count": 25,
   "metadata": {},
   "outputs": [
    {
     "name": "stdout",
     "output_type": "stream",
     "text": [
      "device: 1\n",
      "unit: 2\n",
      "channel: 3\n",
      "id: 4\n",
      "batch: Some cell\n",
      "info: Awesome test\n",
      "Processing data\n",
      "1-2-3-4\n",
      "BOB\n"
     ]
    },
    {
     "ename": "AssertionError",
     "evalue": "",
     "output_type": "error",
     "traceback": [
      "\u001b[31m---------------------------------------------------------------------------\u001b[39m",
      "\u001b[31mAssertionError\u001b[39m                            Traceback (most recent call last)",
      "\u001b[36mCell\u001b[39m\u001b[36m \u001b[39m\u001b[32mIn[25]\u001b[39m\u001b[32m, line 57\u001b[39m\n\u001b[32m     54\u001b[39m test.name = \u001b[33m\"\u001b[39m\u001b[33mBOB\u001b[39m\u001b[33m\"\u001b[39m\n\u001b[32m     55\u001b[39m \u001b[38;5;28mprint\u001b[39m(test.name)\n\u001b[32m---> \u001b[39m\u001b[32m57\u001b[39m \u001b[43mtest\u001b[49m\u001b[43m.\u001b[49m\u001b[43mname\u001b[49m = \u001b[32m5\u001b[39m\n\u001b[32m     58\u001b[39m \u001b[38;5;28mprint\u001b[39m(test.name)\n",
      "\u001b[36mCell\u001b[39m\u001b[36m \u001b[39m\u001b[32mIn[25]\u001b[39m\u001b[32m, line 25\u001b[39m, in \u001b[36mCellTest.name\u001b[39m\u001b[34m(self, name)\u001b[39m\n\u001b[32m     23\u001b[39m \u001b[38;5;129m@name\u001b[39m.setter\n\u001b[32m     24\u001b[39m \u001b[38;5;28;01mdef\u001b[39;00m\u001b[38;5;250m \u001b[39m\u001b[34mname\u001b[39m(\u001b[38;5;28mself\u001b[39m, name:\u001b[38;5;28mstr\u001b[39m):\n\u001b[32m---> \u001b[39m\u001b[32m25\u001b[39m     \u001b[38;5;28;01massert\u001b[39;00m \u001b[38;5;28misinstance\u001b[39m(name,\u001b[38;5;28mstr\u001b[39m)\n\u001b[32m     26\u001b[39m     \u001b[38;5;28mself\u001b[39m._name = name\n\u001b[32m     27\u001b[39m     \u001b[38;5;28;01mreturn\u001b[39;00m\n",
      "\u001b[31mAssertionError\u001b[39m: "
     ]
    }
   ],
   "source": [
    "class CellTest:\n",
    "    def __init__(self, metadata:dict):\n",
    "        self.metadata = metadata\n",
    "        self._name = None\n",
    "        return\n",
    "    \n",
    "    def __repr__(self):\n",
    "        return \"\\n\".join([f\"{key}: {value}\" for key,value in self.metadata.items()])\n",
    "    \n",
    "    \n",
    "    @classmethod\n",
    "    def from_tuples(cls, tuples:list):\n",
    "        return cls({key:value for key,value in tuples})\n",
    "\n",
    "    @property\n",
    "    def name(self):\n",
    "        if self._name is None:\n",
    "            name = f\"{self.metadata[\"device\"]}-{self.metadata['unit']}-{self.metadata['channel']}-{self.metadata['id']}\"    \n",
    "        else:\n",
    "            name = self._name\n",
    "        return name\n",
    "    \n",
    "    @name.setter\n",
    "    def name(self, name:str):\n",
    "        assert isinstance(name,str)\n",
    "        self._name = name\n",
    "        return\n",
    "    \n",
    "    def process(self):\n",
    "        print(f\"Processing data\")\n",
    "        return\n",
    "    \n",
    "# Self refers to the class instance\n",
    "\n",
    "    \n",
    "metadata = {\n",
    "    \"device\": 1,\n",
    "    \"unit\": 2,\n",
    "    \"channel\": 3,\n",
    "    \"id\": 4,\n",
    "    \"batch\": \"Some cell\",\n",
    "    \"info\": \"Awesome test\"\n",
    "}\n",
    "\n",
    "test = CellTest(metadata)\n",
    "print(test)\n",
    "test.process()\n",
    "\n",
    "\n",
    "another = CellTest.from_tuples([(\"a\",3), (\"b\",3)])\n",
    "another\n",
    "\n",
    "print(test.name)\n",
    "test.name = \"BOB\"\n",
    "print(test.name)\n",
    "\n",
    "test.name = 5\n",
    "print(test.name)\n"
   ]
  }
 ],
 "metadata": {
  "kernelspec": {
   "display_name": ".venv",
   "language": "python",
   "name": "python3"
  },
  "language_info": {
   "codemirror_mode": {
    "name": "ipython",
    "version": 3
   },
   "file_extension": ".py",
   "mimetype": "text/x-python",
   "name": "python",
   "nbconvert_exporter": "python",
   "pygments_lexer": "ipython3",
   "version": "3.13.2"
  }
 },
 "nbformat": 4,
 "nbformat_minor": 2
}
