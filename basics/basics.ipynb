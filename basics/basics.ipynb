{
 "cells": [
  {
   "cell_type": "code",
   "execution_count": 89,
   "metadata": {},
   "outputs": [],
   "source": [
    "import random\n",
    "import time"
   ]
  },
  {
   "cell_type": "code",
   "execution_count": 9,
   "metadata": {},
   "outputs": [
    {
     "name": "stdout",
     "output_type": "stream",
     "text": [
      "5 is a <class 'int'>\n",
      "3.3 is a <class 'float'>\n",
      "5 is a <class 'int'>\n",
      "3.3 is a <class 'float'>\n"
     ]
    }
   ],
   "source": [
    "a = int(5)\n",
    "b = float(3.3)\n",
    "\n",
    "print(f\"{a} is a {type(a)}\")\n",
    "print(f\"{b} is a {type(b)}\")\n",
    "\n",
    "c = 5\n",
    "d = 3.3\n",
    "\n",
    "print(f\"{c} is a {type(c)}\")\n",
    "print(f\"{d} is a {type(d)}\")"
   ]
  },
  {
   "cell_type": "code",
   "execution_count": null,
   "metadata": {},
   "outputs": [
    {
     "name": "stdout",
     "output_type": "stream",
     "text": [
      "HERE IS A TEXT ABOUT 5 MONKEYS\n",
      "HERE IS A TEXT ABOUT 5 ELEPHANTS\n",
      "\n",
      "    HERE IS A VERY LONG TEXT ABOUT 5 MONKEYS AND 5 ELEPHANTS\n",
      "    \n"
     ]
    }
   ],
   "source": [
    "a = \"HERE IS A TEXT ABOUT 5 MONKEYS\"\n",
    "b = \"HERE IS A TEXT ABOUT 5 ELEPHANTS\"\n",
    "c = \"\"\"\n",
    "    HERE IS A VERY LONG TEXT ABOUT 5 MONKEYS AND 5 ELEPHANTS\n",
    "    \"\"\"\n",
    "print(a)\n",
    "print(b)\n",
    "print(c)"
   ]
  },
  {
   "cell_type": "code",
   "execution_count": null,
   "metadata": {},
   "outputs": [
    {
     "name": "stdout",
     "output_type": "stream",
     "text": [
      "HERE IS A TEXT ABOUT 5 APPLES\n",
      "HERE IS A TEXT ABOUT 5.000E+00 APPLES\n",
      "HERE IS A TEXT ABOUT 5.000 APPLES\n",
      "HERE IS A TEXT ABOUT    5 APPLES\n",
      "HERE IS A TEXT ABOUT 005 APPLES\n"
     ]
    }
   ],
   "source": [
    "a = 5\n",
    "b = \"APPLES\"\n",
    "print(f\"HERE IS A TEXT ABOUT {a} {b}\")\n",
    "\n",
    "print(f\"HERE IS A TEXT ABOUT {a:.3E} {b}\")\n",
    "\n",
    "print(f\"HERE IS A TEXT ABOUT {a:.3F} {b}\")\n",
    "\n",
    "print(f\"HERE IS A TEXT ABOUT {a:4} {b}\")\n",
    "\n",
    "print(f\"HERE IS A TEXT ABOUT {a:03} {b}\")"
   ]
  },
  {
   "cell_type": "code",
   "execution_count": null,
   "metadata": {},
   "outputs": [
    {
     "name": "stdout",
     "output_type": "stream",
     "text": [
      "(1, 2, 'text')\n",
      "text\n"
     ]
    },
    {
     "ename": "TypeError",
     "evalue": "'tuple' object does not support item assignment",
     "output_type": "error",
     "traceback": [
      "\u001b[1;31m---------------------------------------------------------------------------\u001b[0m",
      "\u001b[1;31mTypeError\u001b[0m                                 Traceback (most recent call last)",
      "Cell \u001b[1;32mIn[47], line 4\u001b[0m\n\u001b[0;32m      2\u001b[0m \u001b[38;5;28mprint\u001b[39m(my_tuple)\n\u001b[0;32m      3\u001b[0m \u001b[38;5;28mprint\u001b[39m(my_tuple[\u001b[38;5;241m2\u001b[39m])\n\u001b[1;32m----> 4\u001b[0m \u001b[43mmy_tuple\u001b[49m\u001b[43m[\u001b[49m\u001b[38;5;241;43m1\u001b[39;49m\u001b[43m]\u001b[49m\u001b[38;5;241m=\u001b[39m\u001b[38;5;241m2\u001b[39m\n",
      "\u001b[1;31mTypeError\u001b[0m: 'tuple' object does not support item assignment"
     ]
    }
   ],
   "source": [
    "my_tuple = (1, 2, \"text\")\n",
    "print(my_tuple)\n",
    "print(my_tuple[2])\n",
    "my_tuple[1] = 2"
   ]
  },
  {
   "cell_type": "code",
   "execution_count": null,
   "metadata": {},
   "outputs": [
    {
     "name": "stdout",
     "output_type": "stream",
     "text": [
      "[1, 2, 'text']\n",
      "text\n",
      "[1, 2, 'text']\n",
      "['BATTERY', 2, 'text']\n"
     ]
    },
    {
     "ename": "TypeError",
     "evalue": "list expected at most 1 argument, got 3",
     "output_type": "error",
     "traceback": [
      "\u001b[1;31m---------------------------------------------------------------------------\u001b[0m",
      "\u001b[1;31mTypeError\u001b[0m                                 Traceback (most recent call last)",
      "Cell \u001b[1;32mIn[65], line 8\u001b[0m\n\u001b[0;32m      5\u001b[0m my_list[\u001b[38;5;241m0\u001b[39m] \u001b[38;5;241m=\u001b[39m \u001b[38;5;124m\"\u001b[39m\u001b[38;5;124mBATTERY\u001b[39m\u001b[38;5;124m\"\u001b[39m\n\u001b[0;32m      6\u001b[0m \u001b[38;5;28mprint\u001b[39m(my_list)\n\u001b[1;32m----> 8\u001b[0m \u001b[38;5;28;43mlist\u001b[39;49m\u001b[43m(\u001b[49m\u001b[38;5;241;43m1\u001b[39;49m\u001b[43m,\u001b[49m\u001b[38;5;241;43m2\u001b[39;49m\u001b[43m,\u001b[49m\u001b[38;5;241;43m43\u001b[39;49m\u001b[43m)\u001b[49m\n",
      "\u001b[1;31mTypeError\u001b[0m: list expected at most 1 argument, got 3"
     ]
    }
   ],
   "source": [
    "my_list = [1, 2, \"text\"]\n",
    "print(my_list)\n",
    "print(my_list[2])\n",
    "print(my_list)\n",
    "my_list[0] = \"BATTERY\"\n",
    "print(my_list)"
   ]
  },
  {
   "cell_type": "code",
   "execution_count": null,
   "metadata": {},
   "outputs": [
    {
     "name": "stdout",
     "output_type": "stream",
     "text": [
      "[1, 1, 1, [2, 2, 2]]\n",
      "[2, 2, 2, 3, 3, 3]\n"
     ]
    }
   ],
   "source": [
    "list_a = [1, 1, 1]\n",
    "list_b = [2, 2, 2]\n",
    "list_c = [3, 3, 3]\n",
    "\n",
    "list_a.append(list_b)\n",
    "print(list_a)\n",
    "\n",
    "list_b.extend(list_c)\n",
    "print(list_b)"
   ]
  },
  {
   "cell_type": "code",
   "execution_count": null,
   "metadata": {},
   "outputs": [
    {
     "name": "stdout",
     "output_type": "stream",
     "text": [
      "{'a': 1, 'b': 'text', 'c': [1, 2, 3], 'd': {'e': 1}}\n",
      "{'e': 1}\n",
      "dict_values([1, 'text', [1, 2, 3], {'e': 1}])\n",
      "dict_keys(['a', 'b', 'c', 'd'])\n"
     ]
    }
   ],
   "source": [
    "my_dict = {\"a\": 1, \"b\": \"text\", \"c\": [1, 2, 3], \"d\": {\"e\": 1}}\n",
    "print(my_dict)\n",
    "print(my_dict[\"d\"])\n",
    "\n",
    "print(my_dict.values())\n",
    "print(my_dict.keys())"
   ]
  },
  {
   "cell_type": "code",
   "execution_count": null,
   "metadata": {},
   "outputs": [
    {
     "name": "stdout",
     "output_type": "stream",
     "text": [
      "[2, 4, 3, 4, 2, 9, 9, 9, 6, 4, 6, 5, 4, 4, 5, 4, 6, 1, 1, 4, 3, 4, 9, 4, 9, 5, 5, 7, 7, 3, 4, 1, 7, 5, 5, 9, 7, 2, 6, 5, 4, 6, 7, 3, 2, 8, 8, 1, 0, 9, 6, 1, 8, 7, 3, 5, 0, 9, 6, 5, 9, 8, 1, 2, 6, 0, 9, 3, 1, 1, 3, 8, 7, 8, 0, 5, 6, 7, 6, 6, 5, 2, 2, 1, 5, 0, 9, 8, 8, 9, 1, 3, 3, 3, 1, 6, 0, 1, 5, 8, 0, 3, 2, 9, 1, 5, 9, 5, 7, 3, 5, 0, 1, 9, 2, 6, 5, 0, 9, 8, 0, 1, 4, 5, 8, 7, 1, 4, 3, 5, 2, 3, 6, 7, 9, 4, 3, 0, 1, 3, 7, 9, 4, 6, 3, 8, 6, 6, 5, 8, 9, 5, 5, 4, 0, 4, 3, 8, 8, 5, 0, 6, 1, 4, 2, 9, 6, 7, 3, 5, 5, 8, 2, 4, 2, 2, 0, 3, 2, 2, 4, 8, 1, 3, 8, 5, 6, 3, 4, 1, 0, 2, 0, 7, 0, 6, 2, 9, 5, 6]\n",
      "[3, 9, 5, 2, 2, 7, 6, 4, 4, 2, 2, 7, 5, 8, 5, 6, 3, 7, 2, 1, 5, 5, 8, 1, 3, 1, 5, 4, 7, 6, 9, 9, 1, 7, 9, 8, 3, 6, 7, 4, 6, 7, 5, 5, 6, 7, 5, 9, 5, 3, 6, 1, 6, 3, 3, 5, 5, 1, 2, 3, 1, 9, 1, 3, 9, 8, 9, 4, 8, 3, 4, 2, 8, 7, 8, 1, 7, 7, 4, 4, 7, 3, 6, 5, 5, 3, 3, 7, 6, 3, 2, 7, 1, 1, 3, 7, 6, 4, 4, 2, 3, 7, 5, 1, 9, 6, 9, 9, 5, 2, 4, 9, 5, 1, 7, 4, 6, 9, 1, 3, 6, 5, 7, 4, 6, 5, 3, 2, 3, 2, 6, 9, 4, 2, 1, 8, 3, 6, 3, 7, 7, 8, 3, 8, 8, 4, 8, 8, 1, 9, 3, 3, 1, 3, 3, 2, 7, 1, 4, 8, 1, 4, 8, 7, 6, 8, 3, 6, 8, 1, 9, 1, 3, 3, 1, 5, 9, 8, 9, 5, 4, 4, 7, 7, 4, 8, 8, 3, 6, 6, 6, 2, 7, 6, 2, 9, 4, 3, 5, 5]\n",
      "{0, 1, 2, 3, 4, 5, 6, 7, 8, 9}\n",
      "{1, 2, 3, 4, 5, 6, 7, 8, 9}\n",
      "[1, 2, 3, 4, 5, 6, 7, 8, 9]\n",
      "[0, 1, 2, 3, 4, 5, 6, 7, 8, 9]\n"
     ]
    }
   ],
   "source": [
    "lst_a = [random.randint(0, 9) for _ in range(200)]\n",
    "lst_b = [random.randint(1, 9) for _ in range(200)]\n",
    "print(lst_a)\n",
    "print(lst_b)\n",
    "set_a = set(lst_a)\n",
    "set_b = set(lst_b)\n",
    "print(set_a)\n",
    "print(set_b)\n",
    "c = list(set_a.intersection(set_b))\n",
    "print(c)\n",
    "\n",
    "c = list(set_a.union(set_b))\n",
    "print(c)"
   ]
  },
  {
   "cell_type": "markdown",
   "metadata": {},
   "source": [
    "**Lists**\\\n",
    "A list is just a collection of things.\\\n",
    "A list can contain anything \\\n",
    "You can remove and add things to lists \\\n",
    "Items are accessed by position, *index*, starting at zero"
   ]
  },
  {
   "cell_type": "code",
   "execution_count": 73,
   "metadata": {},
   "outputs": [
    {
     "name": "stdout",
     "output_type": "stream",
     "text": [
      "5\n",
      "4\n",
      "1\n",
      "5\n",
      "6\n",
      "4\n",
      "6\n",
      "9\n",
      "7\n",
      "9\n"
     ]
    }
   ],
   "source": [
    "collection = [random.randint(0, 9) for _ in range(10)]\n",
    "for item in collection:\n",
    "    print(item)"
   ]
  },
  {
   "cell_type": "code",
   "execution_count": null,
   "metadata": {},
   "outputs": [
    {
     "name": "stdout",
     "output_type": "stream",
     "text": [
      "Position 0 - item is 3\n",
      "Position 1 - item is 8\n",
      "Position 2 - item is 5\n",
      "Position 3 - item is 0\n",
      "Position 4 - item is 0\n",
      "Position 5 - item is 6\n",
      "Position 6 - item is 7\n",
      "Position 7 - item is 3\n",
      "Position 8 - item is 9\n",
      "Position 9 - item is 5\n"
     ]
    }
   ],
   "source": [
    "collection = [random.randint(0, 9) for _ in range(10)]\n",
    "for position, item in enumerate(collection):\n",
    "    print(f\"Position {position} - item is {item}\")"
   ]
  },
  {
   "cell_type": "code",
   "execution_count": null,
   "metadata": {},
   "outputs": [
    {
     "name": "stdout",
     "output_type": "stream",
     "text": [
      "5 8\n",
      "5 2\n",
      "8 8\n",
      "2 1\n",
      "1 0\n",
      "4 3\n",
      "5 5\n",
      "8 8\n",
      "3 2\n",
      "5 4\n"
     ]
    }
   ],
   "source": [
    "collection_1 = [random.randint(0, 9) for _ in range(10)]\n",
    "collection_2 = [random.randint(0, 9) for _ in range(10)]\n",
    "for item_1, item_2 in zip(collection_1, collection_2):\n",
    "    print(item_1, item_2)"
   ]
  },
  {
   "cell_type": "code",
   "execution_count": 77,
   "metadata": {},
   "outputs": [
    {
     "name": "stdout",
     "output_type": "stream",
     "text": [
      "(3, 3, 9, 0, 0, 0, 2, 0, 5, 6)\n",
      "(9, 9, 3, 1, 5, 6, 8, 9, 8, 4)\n",
      "(4, 2, 3, 6, 1, 6, 6, 6, 4, 2)\n",
      "(1, 4, 5, 3, 4, 2, 6, 7, 2, 5)\n",
      "(1, 3, 0, 5, 0, 9, 4, 1, 7, 9)\n",
      "(3, 9, 9, 4, 3, 9, 1, 0, 0, 3)\n",
      "(0, 4, 4, 1, 8, 3, 9, 2, 8, 1)\n",
      "(1, 7, 3, 1, 0, 9, 4, 4, 3, 0)\n",
      "(2, 9, 0, 9, 7, 7, 4, 7, 0, 1)\n",
      "(3, 9, 5, 0, 9, 5, 2, 0, 9, 9)\n"
     ]
    }
   ],
   "source": [
    "many_collections = [[random.randint(0, 9) for _ in range(10)] for _ in range(10)]\n",
    "for items in zip(*many_collections):\n",
    "    print(items)"
   ]
  },
  {
   "cell_type": "code",
   "execution_count": null,
   "metadata": {},
   "outputs": [
    {
     "name": "stdout",
     "output_type": "stream",
     "text": [
      "Position: 0 has (9, 2, 0, 2, 1, 3, 6, 9, 8, 9)\n",
      "Position: 1 has (5, 4, 9, 9, 2, 2, 9, 7, 1, 2)\n",
      "Position: 2 has (1, 7, 5, 0, 4, 7, 4, 6, 6, 8)\n",
      "Position: 3 has (4, 8, 0, 0, 0, 3, 1, 6, 4, 2)\n",
      "Position: 4 has (1, 1, 9, 9, 1, 5, 7, 5, 8, 2)\n",
      "Position: 5 has (7, 1, 6, 8, 5, 8, 9, 4, 7, 0)\n",
      "Position: 6 has (4, 6, 3, 8, 0, 2, 8, 3, 5, 0)\n",
      "Position: 7 has (7, 3, 1, 5, 8, 9, 8, 4, 9, 1)\n",
      "Position: 8 has (8, 0, 5, 8, 4, 0, 2, 7, 4, 0)\n",
      "Position: 9 has (0, 4, 6, 3, 8, 5, 5, 7, 5, 9)\n"
     ]
    }
   ],
   "source": [
    "many_collections = [[random.randint(0, 9) for _ in range(10)] for _ in range(10)]\n",
    "for position, items in enumerate(zip(*many_collections)):\n",
    "    print(f\"Position: {position} has {items}\")"
   ]
  },
  {
   "cell_type": "code",
   "execution_count": null,
   "metadata": {},
   "outputs": [
    {
     "name": "stdout",
     "output_type": "stream",
     "text": [
      "Position: 0 has (3, 0, 1)\n",
      "Position: 1 has (9, 8, 4)\n",
      "Position: 2 has (5, 5, 6)\n",
      "Position: 3 has (1, 6, 0)\n",
      "Position: 4 has (3, 7, 4)\n",
      "Position: 5 has (7, 4, 6)\n",
      "Position: 6 has (1, 9, 7)\n",
      "Position: 7 has (8, 4, 0)\n",
      "Position: 8 has (5, 0, 2)\n",
      "Position: 9 has (9, 6, 1)\n"
     ]
    }
   ],
   "source": [
    "many_collections = [[random.randint(0, 9) for _ in range(10)] for _ in range(3)]\n",
    "for position, (a, b, c) in enumerate(zip(*many_collections)):\n",
    "    print(f\"Position: {position} has {a,b,c}\")"
   ]
  },
  {
   "cell_type": "code",
   "execution_count": null,
   "metadata": {},
   "outputs": [
    {
     "name": "stdout",
     "output_type": "stream",
     "text": [
      "{'0': 98, '1': 30, '2': 97, '3': 54, '4': 87, '5': 63, '6': 80, '7': 51, '8': 51, '9': 51}\n",
      "0: 98\n",
      "1: 30\n",
      "2: 97\n",
      "3: 54\n",
      "4: 87\n",
      "5: 63\n",
      "6: 80\n",
      "7: 51\n",
      "8: 51\n",
      "9: 51\n"
     ]
    }
   ],
   "source": [
    "my_dict = {str(i): random.randint(0, 100) for i in range(10)}\n",
    "print(my_dict)\n",
    "for key, item in my_dict.items():\n",
    "    print(f\"{key}: {item}\")"
   ]
  },
  {
   "cell_type": "code",
   "execution_count": 87,
   "metadata": {},
   "outputs": [
    {
     "name": "stdout",
     "output_type": "stream",
     "text": [
      "Weekend\n",
      "Day\n"
     ]
    }
   ],
   "source": [
    "for i in range(10):\n",
    "    if i == 3:\n",
    "        print(\"Weekend\")\n",
    "    elif i == 4:\n",
    "        print(\"Day\")\n",
    "    else:\n",
    "        pass  # Do nothing"
   ]
  },
  {
   "cell_type": "code",
   "execution_count": 88,
   "metadata": {},
   "outputs": [
    {
     "name": "stdout",
     "output_type": "stream",
     "text": [
      "i is even\n",
      "Weekend\n",
      "i is even\n",
      "Day\n",
      "i is even\n",
      "i is even\n",
      "i is even\n"
     ]
    }
   ],
   "source": [
    "for i in range(10):\n",
    "    if i == 3:\n",
    "        print(\"Weekend\")\n",
    "    if i == 4:\n",
    "        print(\"Day\")\n",
    "\n",
    "    if i % 2:\n",
    "        print(\"i is even\")\n",
    "    else:\n",
    "        pass  # Do nothing"
   ]
  },
  {
   "cell_type": "code",
   "execution_count": 96,
   "metadata": {},
   "outputs": [
    {
     "name": "stdout",
     "output_type": "stream",
     "text": [
      "Running\n",
      "Running\n",
      "Running\n",
      "Running\n",
      "Running\n",
      "Running\n",
      "Running\n",
      "Running\n",
      "Running\n",
      "Running\n",
      "Running\n",
      "Running\n",
      "Running\n",
      "Running\n",
      "Running\n",
      "Running\n",
      "Running\n",
      "Running\n",
      "Running\n",
      "Running\n",
      "Running\n",
      "Running\n",
      "Running\n",
      "Running\n",
      "Running\n",
      "Running\n",
      "Running\n",
      "Running\n",
      "Running\n",
      "Running\n",
      "Running\n",
      "Running\n",
      "Running\n",
      "Running\n",
      "Running\n",
      "Running\n",
      "Running\n",
      "Running\n",
      "Running\n",
      "Running\n",
      "Running\n",
      "Running\n",
      "Running\n",
      "Running\n",
      "Running\n",
      "Running\n",
      "Running\n",
      "Running\n",
      "Running\n",
      "Running\n",
      "Running\n",
      "Running\n",
      "Running\n",
      "Running\n",
      "Running\n",
      "Running\n",
      "Running\n",
      "Running\n",
      "Running\n",
      "Running\n",
      "Running\n",
      "Running\n",
      "Running\n",
      "Running\n",
      "Running\n",
      "Running\n",
      "Running\n",
      "Running\n",
      "Running\n",
      "Running\n",
      "Running\n",
      "Running\n",
      "Running\n",
      "Running\n",
      "Running\n",
      "Running\n",
      "Running\n",
      "Running\n",
      "Running\n",
      "Running\n",
      "Running\n",
      "Running\n",
      "Running\n",
      "Running\n",
      "Running\n",
      "Running\n",
      "Running\n",
      "Running\n",
      "Running\n",
      "Running\n",
      "Running\n",
      "Running\n",
      "Running\n",
      "Running\n"
     ]
    }
   ],
   "source": [
    "# Get a reference time-value\n",
    "start = time.time()\n",
    "# While 1 millisecond has not passed\n",
    "while time.time() - start < 1e-3:\n",
    "    print(\"Running\")"
   ]
  },
  {
   "cell_type": "code",
   "execution_count": 98,
   "metadata": {},
   "outputs": [
    {
     "name": "stdout",
     "output_type": "stream",
     "text": [
      "3\n"
     ]
    },
    {
     "ename": "IndexError",
     "evalue": "list index out of range",
     "output_type": "error",
     "traceback": [
      "\u001b[1;31m---------------------------------------------------------------------------\u001b[0m",
      "\u001b[1;31mIndexError\u001b[0m                                Traceback (most recent call last)",
      "Cell \u001b[1;32mIn[98], line 3\u001b[0m\n\u001b[0;32m      1\u001b[0m my_list \u001b[38;5;241m=\u001b[39m [\u001b[38;5;241m1\u001b[39m,\u001b[38;5;241m2\u001b[39m,\u001b[38;5;241m3\u001b[39m]\n\u001b[0;32m      2\u001b[0m \u001b[38;5;28mprint\u001b[39m(my_list[\u001b[38;5;241m2\u001b[39m])\n\u001b[1;32m----> 3\u001b[0m \u001b[38;5;28mprint\u001b[39m(\u001b[43mmy_list\u001b[49m\u001b[43m[\u001b[49m\u001b[38;5;241;43m6\u001b[39;49m\u001b[43m]\u001b[49m)\n",
      "\u001b[1;31mIndexError\u001b[0m: list index out of range"
     ]
    }
   ],
   "source": [
    "my_list = [1, 2, 3]\n",
    "print(my_list[2])\n",
    "print(my_list[6])"
   ]
  },
  {
   "cell_type": "code",
   "execution_count": 102,
   "metadata": {},
   "outputs": [
    {
     "name": "stdout",
     "output_type": "stream",
     "text": [
      "2\n",
      "Not found\n",
      "1\n"
     ]
    },
    {
     "ename": "KeyError",
     "evalue": "'d'",
     "output_type": "error",
     "traceback": [
      "\u001b[1;31m---------------------------------------------------------------------------\u001b[0m",
      "\u001b[1;31mKeyError\u001b[0m                                  Traceback (most recent call last)",
      "Cell \u001b[1;32mIn[102], line 5\u001b[0m\n\u001b[0;32m      3\u001b[0m \u001b[38;5;28mprint\u001b[39m(my_dict\u001b[38;5;241m.\u001b[39mget(\u001b[38;5;124m\"\u001b[39m\u001b[38;5;124md\u001b[39m\u001b[38;5;124m\"\u001b[39m, \u001b[38;5;124m\"\u001b[39m\u001b[38;5;124mNot found\u001b[39m\u001b[38;5;124m\"\u001b[39m))\n\u001b[0;32m      4\u001b[0m \u001b[38;5;28mprint\u001b[39m(my_dict[\u001b[38;5;124m\"\u001b[39m\u001b[38;5;124ma\u001b[39m\u001b[38;5;124m\"\u001b[39m])\n\u001b[1;32m----> 5\u001b[0m \u001b[38;5;28mprint\u001b[39m(\u001b[43mmy_dict\u001b[49m\u001b[43m[\u001b[49m\u001b[38;5;124;43m\"\u001b[39;49m\u001b[38;5;124;43md\u001b[39;49m\u001b[38;5;124;43m\"\u001b[39;49m\u001b[43m]\u001b[49m)\n",
      "\u001b[1;31mKeyError\u001b[0m: 'd'"
     ]
    }
   ],
   "source": [
    "my_dict = {\"a\": 1, \"b\": 2, \"c\": 3}\n",
    "print(my_dict.get(\"b\", \"Not found\"))\n",
    "print(my_dict.get(\"d\", \"Not found\"))\n",
    "print(my_dict[\"a\"])\n",
    "print(my_dict[\"d\"])"
   ]
  }
 ],
 "metadata": {
  "kernelspec": {
   "display_name": "main",
   "language": "python",
   "name": "python3"
  },
  "language_info": {
   "codemirror_mode": {
    "name": "ipython",
    "version": 3
   },
   "file_extension": ".py",
   "mimetype": "text/x-python",
   "name": "python",
   "nbconvert_exporter": "python",
   "pygments_lexer": "ipython3",
   "version": "3.11.9"
  }
 },
 "nbformat": 4,
 "nbformat_minor": 2
}
